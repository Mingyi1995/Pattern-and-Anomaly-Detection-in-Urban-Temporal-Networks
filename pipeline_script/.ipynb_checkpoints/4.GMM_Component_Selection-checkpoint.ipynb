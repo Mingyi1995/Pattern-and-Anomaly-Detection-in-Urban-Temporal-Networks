{
 "cells": [
  {
   "cell_type": "code",
   "execution_count": 111,
   "metadata": {},
   "outputs": [],
   "source": [
    "import pandas as pd\n",
    "import numpy as np\n",
    "import os\n",
    "from sklearn.mixture import GaussianMixture \n",
    "from sklearn.metrics import silhouette_score\n",
    "import warnings\n",
    "import matplotlib.pyplot as plt\n",
    "from sklearn.decomposition import PCA\n",
    "warnings.filterwarnings('ignore')"
   ]
  },
  {
   "cell_type": "code",
   "execution_count": 5,
   "metadata": {},
   "outputs": [],
   "source": [
    "RecordWritingPath = '/Users/hemingyi/Documents/capstone/post/result/'\n",
    "TransportationDataPath = '/Users/hemingyi/Documents/capstone/post/transportation/output/'\n",
    "EventDataPath = '/Users/hemingyi/Documents/capstone/post/events/'\n",
    "comboPath = '/Users/hemingyi/Documents/capstone/combo/'\n",
    "PostData = '/Users/hemingyi/Documents/capstone/post/'"
   ]
  },
  {
   "cell_type": "code",
   "execution_count": 65,
   "metadata": {},
   "outputs": [
    {
     "name": "stdout",
     "output_type": "stream",
     "text": [
      "2 0.7038884666297378\n",
      "3 0.5957238735456106\n",
      "4 0.4118662263802493\n",
      "5 0.5885298170210838\n"
     ]
    }
   ],
   "source": [
    "# highest sihouette in timeseries and different n comp\n",
    "standardize = 'Normalize'\n",
    "city = 'Taipei'\n",
    "\n",
    "data = pd.read_csv('/Users/hemingyi/Documents/capstone/post/transportation/'+city+'EdgeDatewiseAggregated.csv')\n",
    "data = pd.DataFrame(data.groupby(['date'])['amount'].sum())\n",
    "matrix = data.values\n",
    "silhouette = []\n",
    "for ncomp in range(2,6):\n",
    "    gm=GaussianMixture(n_components=ncomp,n_init=100,max_iter=1000,random_state=0)\n",
    "    labels = gm.fit_predict(matrix)\n",
    "    score = silhouette_score(matrix,labels)\n",
    "    silhouette += [score]\n",
    "    print(ncomp,score)\n",
    "                \n",
    "                "
   ]
  },
  {
   "cell_type": "code",
   "execution_count": 105,
   "metadata": {},
   "outputs": [
    {
     "name": "stdout",
     "output_type": "stream",
     "text": [
      "2 17462.089049940827\n",
      "3 17396.724869002835\n",
      "4 17394.77075253148\n",
      "5 17411.519162135774\n"
     ]
    }
   ],
   "source": [
    "# lowest bic in timeseries and different n comp\n",
    "standardize = 'Normalize'\n",
    "city = 'Taipei'\n",
    "\n",
    "data = pd.read_csv('/Users/hemingyi/Documents/capstone/post/transportation/'+city+'EdgeDatewiseAggregated.csv')\n",
    "data = pd.DataFrame(data.groupby(['date'])['amount'].sum())\n",
    "matrix = data.values\n",
    "bic = []\n",
    "for ncomp in range(2,6):\n",
    "    gm=GaussianMixture(n_components=ncomp,n_init=100,max_iter=1000,random_state=0)\n",
    "    labels = gm.fit_predict(matrix)\n",
    "    score = gm.bic(matrix)\n",
    "    bic += [score]\n",
    "    print(ncomp,score)\n",
    "                \n",
    "                "
   ]
  },
  {
   "cell_type": "code",
   "execution_count": 106,
   "metadata": {},
   "outputs": [
    {
     "name": "stdout",
     "output_type": "stream",
     "text": [
      "2 17439.7973585241\n",
      "3 17361.058162736077\n",
      "4 17345.72903141469\n",
      "5 17349.102426168945\n"
     ]
    }
   ],
   "source": [
    "# lowest aic in timeseries and different n comp\n",
    "standardize = 'Normalize'\n",
    "city = 'Taipei'\n",
    "\n",
    "data = pd.read_csv('/Users/hemingyi/Documents/capstone/post/transportation/'+city+'EdgeDatewiseAggregated.csv')\n",
    "data = pd.DataFrame(data.groupby(['date'])['amount'].sum())\n",
    "matrix = data.values\n",
    "bic = []\n",
    "for ncomp in range(2,6):\n",
    "    gm=GaussianMixture(n_components=ncomp,n_init=100,max_iter=1000,random_state=0)\n",
    "    labels = gm.fit_predict(matrix)\n",
    "    score = gm.aic(matrix)\n",
    "    bic += [score]\n",
    "    print(ncomp,score)"
   ]
  },
  {
   "cell_type": "code",
   "execution_count": 112,
   "metadata": {},
   "outputs": [
    {
     "name": "stdout",
     "output_type": "stream",
     "text": [
      "2 0.5130172602648845\n",
      "3 0.3987425689373214\n",
      "4 0.24376832373945767\n",
      "5 0.24723950803199152\n"
     ]
    }
   ],
   "source": [
    "# highest sihouette in whole network and different n comp\n",
    "standardize = 'Normalize'\n",
    "city = 'Taipei'\n",
    "\n",
    "data = pd.read_csv('/Users/hemingyi/Documents/capstone/post/transportation/'+city+'EdgeDatewiseAggregated.csv')\n",
    "data['edge'] = data['start_id'] + '-' + data['end_id']\n",
    "data = data.drop(['start_id','end_id'], axis=1)\n",
    "data = data.pivot(index='date',columns='edge').reset_index()\n",
    "data.fillna(0,inplace=True)\n",
    "matrix = data.drop(['date'], axis=1).values\n",
    "pca = PCA(n_components=16)    \n",
    "matrix=pca.fit_transform(matrix)\n",
    "silhouette = []\n",
    "for ncomp in range(2,6):\n",
    "    gm=GaussianMixture(n_components=ncomp,n_init=100,max_iter=1000,random_state=0)\n",
    "    labels = gm.fit_predict(matrix)\n",
    "    score = silhouette_score(matrix,labels)\n",
    "    silhouette += [score]\n",
    "    print(ncomp,score)\n",
    "                \n",
    "                "
   ]
  },
  {
   "cell_type": "code",
   "execution_count": 114,
   "metadata": {},
   "outputs": [
    {
     "name": "stdout",
     "output_type": "stream",
     "text": [
      "2 169270.2003373001\n",
      "3 167235.07034529\n",
      "4 166114.0703626877\n",
      "5 165270.73330041175\n"
     ]
    }
   ],
   "source": [
    "for ncomp in range(2,6):\n",
    "    gm=GaussianMixture(n_components=ncomp,n_init=100,max_iter=1000,random_state=0)\n",
    "    labels = gm.fit_predict(matrix)\n",
    "    score = gm.bic(matrix)\n",
    "    print(ncomp,score)"
   ]
  },
  {
   "cell_type": "code",
   "execution_count": 75,
   "metadata": {},
   "outputs": [
    {
     "name": "stdout",
     "output_type": "stream",
     "text": [
      "2 -561988.6496978914\n",
      "3 -503694.1308068296\n",
      "4 -413897.35152001446\n",
      "5 -330144.8937122958\n"
     ]
    }
   ],
   "source": [
    "# highest sihouette in IO and different n comp\n",
    "standardize = 'Normalize'\n",
    "city = 'Taipei'\n",
    "\n",
    "data = pd.read_csv(TransportationDataPath+'IO/OriginSize/Normalize/'+city+'IONormalize.csv')\n",
    "\n",
    "matrix = data.drop(['date'], axis=1).values\n",
    "silhouette = []\n",
    "for ncomp in range(2,6):\n",
    "    gm=GaussianMixture(n_components=ncomp,n_init=100,max_iter=1000,random_state=0)\n",
    "    labels = gm.fit_predict(matrix)\n",
    "    score = gm.bic(matrix)\n",
    "    silhouette += [score]\n",
    "    print(ncomp,score)\n",
    "                \n",
    "                "
   ]
  },
  {
   "cell_type": "code",
   "execution_count": 76,
   "metadata": {},
   "outputs": [
    {
     "name": "stdout",
     "output_type": "stream",
     "text": [
      "2 -772890.3421915167\n",
      "3 -820048.8987164092\n",
      "4 -835705.1948455484\n",
      "5 -857405.812453784\n"
     ]
    }
   ],
   "source": [
    "standardize = 'Normalize'\n",
    "city = 'Taipei'\n",
    "\n",
    "data = pd.read_csv(TransportationDataPath+'IO/OriginSize/Normalize/'+city+'IONormalize.csv')\n",
    "\n",
    "matrix = data.drop(['date'], axis=1).values\n",
    "silhouette = []\n",
    "for ncomp in range(2,6):\n",
    "    gm=GaussianMixture(n_components=ncomp,n_init=100,max_iter=1000,random_state=0)\n",
    "    labels = gm.fit_predict(matrix)\n",
    "    score = gm.aic(matrix)\n",
    "    silhouette += [score]\n",
    "    print(ncomp,score)\n",
    "                "
   ]
  },
  {
   "cell_type": "code",
   "execution_count": 66,
   "metadata": {},
   "outputs": [
    {
     "name": "stdout",
     "output_type": "stream",
     "text": [
      "2 0.5505387292757288\n",
      "3 0.5335865759347035\n",
      "4 0.5362838227302841\n",
      "5 0.5338358039876452\n"
     ]
    }
   ],
   "source": [
    "standardize = 'Normalize'\n",
    "city = 'NewYork'\n",
    "\n",
    "data = pd.read_csv('/Users/hemingyi/Documents/capstone/post/transportation/'+city+'EdgeDatewiseAggregated.csv')\n",
    "data = pd.DataFrame(data.groupby(['date'])['amount'].sum())\n",
    "matrix = data.values\n",
    "silhouette = []\n",
    "for ncomp in range(2,6):\n",
    "    gm=GaussianMixture(n_components=ncomp,n_init=100,max_iter=1000,random_state=0)\n",
    "    labels = gm.fit_predict(matrix)\n",
    "    score = silhouette_score(matrix,labels)\n",
    "    silhouette += [score]\n",
    "    print(ncomp,score)"
   ]
  },
  {
   "cell_type": "code",
   "execution_count": 25,
   "metadata": {},
   "outputs": [
    {
     "name": "stdout",
     "output_type": "stream",
     "text": [
      "Comm OriginSize\n",
      "3\n",
      "Comm PCA\n",
      "2\n",
      "Comm AE\n",
      "2\n",
      "IO OriginSize\n",
      "2\n",
      "IO PCA\n",
      "2\n",
      "IO AE\n",
      "2\n"
     ]
    }
   ],
   "source": [
    "# highest sihouette in different methods and different n comp\n",
    "standardize = 'Normalize'\n",
    "city = 'Taipei'\n",
    "for aggregation in ['Comm','IO']:\n",
    "    for dimension in ['OriginSize','PCA','AE']:\n",
    "        data = pd.read_csv(TransportationDataPath+'%s/%s/%s/%s%s%s.csv'%(aggregation, dimension, standardize, city, aggregation, standardize))\n",
    "        matrix = data.drop(['date'], axis=1).values\n",
    "        print(aggregation, dimension)\n",
    "        silhouette = []\n",
    "        for ncomp in range(2,6):\n",
    "            gm=GaussianMixture(n_components=ncomp,n_init=100,max_iter=1000,random_state=0)\n",
    "            labels = gm.fit_predict(matrix)\n",
    "            score = silhouette_score(matrix,labels)\n",
    "            silhouette += [score]\n",
    "        bestcomp = np.array(silhouette).argmax() + 2\n",
    "        print(bestcomp)\n",
    "                \n",
    "                "
   ]
  },
  {
   "cell_type": "code",
   "execution_count": 45,
   "metadata": {},
   "outputs": [
    {
     "name": "stdout",
     "output_type": "stream",
     "text": [
      "2\n",
      "0.5199294183449015\n",
      "3\n",
      "0.4223132855709341\n",
      "4\n",
      "0.2644557376338161\n",
      "5\n",
      "0.29234030958905927\n"
     ]
    }
   ],
   "source": [
    "# same n component, average sihouette for different methods\n",
    "standardize = 'Normalize'\n",
    "city = 'Taipei'\n",
    "for ncomp in range(2,6):\n",
    "    silhouette = []\n",
    "    print(ncomp)\n",
    "    for aggregation in ['Comm','IO']:\n",
    "        for dimension in ['OriginSize','PCA','AE']:\n",
    "            data = pd.read_csv(TransportationDataPath+'%s/%s/%s/%s%s%s.csv'%(aggregation, dimension, standardize, city, aggregation, standardize))\n",
    "            matrix = data.drop(['date'], axis=1).values\n",
    "#             print(aggregation, dimension)\n",
    "            gm=GaussianMixture(n_components=ncomp,n_init=100,max_iter=1000,random_state=0)\n",
    "            labels = gm.fit_predict(matrix)\n",
    "            score = silhouette_score(matrix,labels)\n",
    "            silhouette += [score]\n",
    "    meansilhouette = np.array(silhouette).mean()\n",
    "    print(meansilhouette)\n",
    "\n",
    "                "
   ]
  },
  {
   "cell_type": "markdown",
   "metadata": {},
   "source": [
    "## aic"
   ]
  },
  {
   "cell_type": "code",
   "execution_count": 87,
   "metadata": {},
   "outputs": [
    {
     "name": "stdout",
     "output_type": "stream",
     "text": [
      "Comm OriginSize\n",
      "5\n",
      "Comm PCA\n",
      "5\n",
      "Comm AE\n",
      "5\n",
      "IO OriginSize\n",
      "5\n",
      "IO PCA\n",
      "5\n",
      "IO AE\n",
      "5\n"
     ]
    }
   ],
   "source": [
    "standardize = 'Normalize'\n",
    "city = 'Taipei'\n",
    "for aggregation in ['Comm','IO']:\n",
    "    for dimension in ['OriginSize','PCA','AE']:\n",
    "        data = pd.read_csv(TransportationDataPath+'%s/%s/%s/%s%s%s.csv'%(aggregation, dimension, standardize, city, aggregation, standardize))\n",
    "        matrix = data.drop(['date'], axis=1).values\n",
    "        print(aggregation, dimension)\n",
    "        aic = []\n",
    "        for ncomp in range(2,6):\n",
    "            gm=GaussianMixture(n_components=ncomp,n_init=100,max_iter=1000,random_state=0)\n",
    "            gm.fit(matrix)\n",
    "            score = gm.aic(matrix)\n",
    "            aic += [score]\n",
    "        bestcomp = np.array(aic).argmin() + 2\n",
    "        print(bestcomp)\n",
    "                \n",
    "                "
   ]
  },
  {
   "cell_type": "markdown",
   "metadata": {},
   "source": [
    "# New York"
   ]
  },
  {
   "cell_type": "markdown",
   "metadata": {},
   "source": [
    "## silhouette"
   ]
  },
  {
   "cell_type": "code",
   "execution_count": 26,
   "metadata": {},
   "outputs": [
    {
     "name": "stdout",
     "output_type": "stream",
     "text": [
      "Comm OriginSize\n",
      "2\n",
      "Comm PCA\n",
      "2\n",
      "Comm AE\n",
      "2\n",
      "IO OriginSize\n",
      "2\n",
      "IO PCA\n",
      "2\n",
      "IO AE\n",
      "5\n"
     ]
    }
   ],
   "source": [
    "standardize = 'Normalize'\n",
    "city = 'NewYork'\n",
    "for aggregation in ['Comm','IO']:\n",
    "    for dimension in ['OriginSize','PCA','AE']:\n",
    "        data = pd.read_csv(TransportationDataPath+'%s/%s/%s/%s%s%s.csv'%(aggregation, dimension, standardize, city, aggregation, standardize))\n",
    "        matrix = data.drop(['date'], axis=1).values\n",
    "        print(aggregation, dimension)\n",
    "        silhouette = []\n",
    "        for ncomp in range(2,6):\n",
    "            gm=GaussianMixture(n_components=ncomp,n_init=100,max_iter=1000,random_state=0)\n",
    "            labels = gm.fit_predict(matrix)\n",
    "            score = silhouette_score(matrix,labels)\n",
    "            silhouette += [score]\n",
    "        bestcomp = np.array(silhouette).argmax() + 2\n",
    "        print(bestcomp)\n",
    "                \n",
    "                "
   ]
  },
  {
   "cell_type": "markdown",
   "metadata": {},
   "source": [
    "## bic"
   ]
  },
  {
   "cell_type": "code",
   "execution_count": 38,
   "metadata": {},
   "outputs": [
    {
     "name": "stdout",
     "output_type": "stream",
     "text": [
      "Comm OriginSize\n",
      "2\n",
      "Comm PCA\n",
      "3\n",
      "Comm AE\n",
      "2\n",
      "IO OriginSize\n",
      "2\n",
      "IO PCA\n",
      "5\n",
      "IO AE\n",
      "3\n"
     ]
    }
   ],
   "source": [
    "standardize = 'Normalize'\n",
    "city = 'NewYork'\n",
    "for aggregation in ['Comm','IO']:\n",
    "    for dimension in ['OriginSize','PCA','AE']:\n",
    "        data = pd.read_csv(TransportationDataPath+'%s/%s/%s/%s%s%s.csv'%(aggregation, dimension, standardize, city, aggregation, standardize))\n",
    "        matrix = data.drop(['date'], axis=1).values\n",
    "        print(aggregation, dimension)\n",
    "        bic = []\n",
    "        for ncomp in range(2,6):\n",
    "            gm=GaussianMixture(n_components=ncomp,n_init=100,max_iter=1000,random_state=0)\n",
    "            gm.fit(matrix)\n",
    "            score = gm.bic(matrix)\n",
    "            bic += [score]\n",
    "        bestcomp = np.array(bic).argmin() + 2\n",
    "        print(bestcomp)\n",
    "                \n",
    "    "
   ]
  },
  {
   "cell_type": "markdown",
   "metadata": {},
   "source": [
    "## aic"
   ]
  },
  {
   "cell_type": "code",
   "execution_count": 89,
   "metadata": {},
   "outputs": [
    {
     "name": "stdout",
     "output_type": "stream",
     "text": [
      "Comm OriginSize\n",
      "3\n",
      "Comm PCA\n",
      "5\n",
      "Comm AE\n",
      "5\n",
      "IO OriginSize\n",
      "3\n",
      "IO PCA\n",
      "5\n",
      "IO AE\n",
      "5\n"
     ]
    }
   ],
   "source": [
    "standardize = 'Normalize'\n",
    "city = 'NewYork'\n",
    "for aggregation in ['Comm','IO']:\n",
    "    for dimension in ['OriginSize','PCA','AE']:\n",
    "        data = pd.read_csv(TransportationDataPath+'%s/%s/%s/%s%s%s.csv'%(aggregation, dimension, standardize, city, aggregation, standardize))\n",
    "        matrix = data.drop(['date'], axis=1).values\n",
    "        print(aggregation, dimension)\n",
    "        aic = []\n",
    "        for ncomp in range(2,6):\n",
    "            gm=GaussianMixture(n_components=ncomp,n_init=100,max_iter=1000,random_state=0)\n",
    "            gm.fit(matrix)\n",
    "            score = gm.aic(matrix)\n",
    "            aic += [score]\n",
    "        bestcomp = np.array(aic).argmin() + 2\n",
    "        print(bestcomp)\n",
    "                \n",
    "                "
   ]
  },
  {
   "cell_type": "code",
   "execution_count": 103,
   "metadata": {},
   "outputs": [
    {
     "name": "stdout",
     "output_type": "stream",
     "text": [
      "2 15196.501632217232\n",
      "3 15217.871961258987\n",
      "4 15237.68788131056\n",
      "5 15252.55599420354\n"
     ]
    }
   ],
   "source": [
    "# lowest bic in timeseries and different n comp\n",
    "standardize = 'Normalize'\n",
    "city = 'NewYork'\n",
    "\n",
    "data = pd.read_csv('/Users/hemingyi/Documents/capstone/post/transportation/'+city+'EdgeDatewiseAggregated.csv')\n",
    "data = pd.DataFrame(data.groupby(['date'])['amount'].sum())\n",
    "matrix = data.values\n",
    "bic = []\n",
    "for ncomp in range(2,6):\n",
    "    gm=GaussianMixture(n_components=ncomp,n_init=100,max_iter=1000,random_state=0)\n",
    "    labels = gm.fit_predict(matrix)\n",
    "    score = gm.bic(matrix)\n",
    "    bic += [score]\n",
    "    print(ncomp,score)\n",
    "                \n",
    "                "
   ]
  },
  {
   "cell_type": "code",
   "execution_count": 102,
   "metadata": {},
   "outputs": [
    {
     "name": "stdout",
     "output_type": "stream",
     "text": [
      "2 0.5505387292757288\n",
      "3 0.5335865759347035\n",
      "4 0.5362838227302841\n",
      "5 0.5338358039876452\n"
     ]
    }
   ],
   "source": [
    "# highest sihouette in timeseries and different n comp\n",
    "standardize = 'Normalize'\n",
    "city = 'NewYork'\n",
    "\n",
    "data = pd.read_csv('/Users/hemingyi/Documents/capstone/post/transportation/'+city+'EdgeDatewiseAggregated.csv')\n",
    "data = pd.DataFrame(data.groupby(['date'])['amount'].sum())\n",
    "matrix = data.values\n",
    "silhouette = []\n",
    "for ncomp in range(2,6):\n",
    "    gm=GaussianMixture(n_components=ncomp,n_init=100,max_iter=1000,random_state=0)\n",
    "    labels = gm.fit_predict(matrix)\n",
    "    score = silhouette_score(matrix,labels)\n",
    "    silhouette += [score]\n",
    "    print(ncomp,score)\n",
    "                \n",
    "                "
   ]
  },
  {
   "cell_type": "code",
   "execution_count": 117,
   "metadata": {},
   "outputs": [
    {
     "name": "stdout",
     "output_type": "stream",
     "text": [
      "2 0.4095001999386597\n",
      "3 0.24339591438957622\n",
      "4 0.13781376401319048\n",
      "5 0.16069571961306503\n"
     ]
    }
   ],
   "source": [
    "# highest sihouette in whole network and different n comp\n",
    "standardize = 'Normalize'\n",
    "city = 'NewYork'\n",
    "\n",
    "data = pd.read_csv('/Users/hemingyi/Documents/capstone/post/transportation/'+city+'EdgeDatewiseAggregated.csv')\n",
    "data['edge'] = data['start_id'].astype('str') + '-' + data['end_id'].astype('str')\n",
    "data = data.drop(['start_id','end_id'], axis=1)\n",
    "data = data.pivot(index='date',columns='edge').reset_index()\n",
    "data.fillna(0,inplace=True)\n",
    "matrix = data.drop(['date'], axis=1).values\n",
    "pca = PCA(n_components=16)    \n",
    "matrix=pca.fit_transform(matrix)\n",
    "silhouette = []\n",
    "for ncomp in range(2,6):\n",
    "    gm=GaussianMixture(n_components=ncomp,n_init=100,max_iter=1000,random_state=0)\n",
    "    labels = gm.fit_predict(matrix)\n",
    "    score = silhouette_score(matrix,labels)\n",
    "    silhouette += [score]\n",
    "    print(ncomp,score)\n",
    "                \n",
    "                "
   ]
  },
  {
   "cell_type": "code",
   "execution_count": 118,
   "metadata": {},
   "outputs": [
    {
     "name": "stdout",
     "output_type": "stream",
     "text": [
      "2 137280.73307866525\n",
      "3 136627.93882220547\n",
      "4 136572.69168079228\n",
      "5 136701.56048153332\n"
     ]
    }
   ],
   "source": [
    "for ncomp in range(2,6):\n",
    "    gm=GaussianMixture(n_components=ncomp,n_init=100,max_iter=1000,random_state=0)\n",
    "    labels = gm.fit_predict(matrix)\n",
    "    score = gm.bic(matrix)\n",
    "    print(ncomp,score)"
   ]
  }
 ],
 "metadata": {
  "kernelspec": {
   "display_name": "Python 3",
   "language": "python",
   "name": "python3"
  },
  "language_info": {
   "codemirror_mode": {
    "name": "ipython",
    "version": 3
   },
   "file_extension": ".py",
   "mimetype": "text/x-python",
   "name": "python",
   "nbconvert_exporter": "python",
   "pygments_lexer": "ipython3",
   "version": "3.7.6"
  }
 },
 "nbformat": 4,
 "nbformat_minor": 2
}
