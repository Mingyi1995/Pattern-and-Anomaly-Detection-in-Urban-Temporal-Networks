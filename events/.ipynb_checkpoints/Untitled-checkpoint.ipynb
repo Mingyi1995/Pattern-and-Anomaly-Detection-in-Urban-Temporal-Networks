{
 "cells": [
  {
   "cell_type": "code",
   "execution_count": 1,
   "metadata": {},
   "outputs": [],
   "source": [
    "import pandas as pd\n",
    "import os"
   ]
  },
  {
   "cell_type": "code",
   "execution_count": 2,
   "metadata": {},
   "outputs": [
    {
     "data": {
      "text/plain": [
       "['.DS_Store',\n",
       " 'ChicagoEvents.csv',\n",
       " 'Untitled.ipynb',\n",
       " 'TaipeiEvents.csv',\n",
       " 'NewYorkEvents.csv',\n",
       " 'DCEvents.csv',\n",
       " '.ipynb_checkpoints',\n",
       " 'origin',\n",
       " 'TaipeiWeather.csv']"
      ]
     },
     "execution_count": 2,
     "metadata": {},
     "output_type": "execute_result"
    }
   ],
   "source": [
    "os.listdir()"
   ]
  },
  {
   "cell_type": "code",
   "execution_count": 3,
   "metadata": {},
   "outputs": [],
   "source": [
    "file = 'DCEvents.csv'\n",
    "# typedict = {'National Holiday':'Global Event','Culture Event':'Local Event', 'Extreme Weather':'Global Event','Natural Disaster':'Global Event','Protest':'Global Event'}\n",
    "\n",
    "df = pd.read_csv(file)\n",
    "local = df[df['Name'].str.contains('local')]\n",
    "df = df.drop(local.index)\n"
   ]
  },
  {
   "cell_type": "code",
   "execution_count": 45,
   "metadata": {},
   "outputs": [],
   "source": [
    "file = 'TaipeiEvents.csv'\n",
    "df = pd.read_csv(file)\n",
    "df = df[df['Type']!='Extreme Weather']\n",
    "typedict = {'National Holiday':'Global Event','Culture Event':'Local Event', 'Extreme Weather':'Global Event','Natural Disaster':'Global Event'}\n"
   ]
  },
  {
   "cell_type": "code",
   "execution_count": 57,
   "metadata": {},
   "outputs": [],
   "source": [
    "df['Year'] = df['Date'].apply(lambda x: int(x.split('/')[-1]))\n",
    "df = df[df['Year'] > 2016]"
   ]
  },
  {
   "cell_type": "code",
   "execution_count": 19,
   "metadata": {},
   "outputs": [
    {
     "data": {
      "text/plain": [
       "['.DS_Store',\n",
       " 'ChicagoEvents.csv',\n",
       " 'Untitled.ipynb',\n",
       " 'TaipeiEvents.csv',\n",
       " 'NewYorkEvents.csv',\n",
       " 'DCEvents.csv',\n",
       " '.ipynb_checkpoints']"
      ]
     },
     "execution_count": 19,
     "metadata": {},
     "output_type": "execute_result"
    }
   ],
   "source": [
    "os.listdir()"
   ]
  },
  {
   "cell_type": "code",
   "execution_count": 30,
   "metadata": {},
   "outputs": [],
   "source": [
    "# df['Type'] = df['Type'].apply(lambda x: typedict[x])\n",
    "file = os.listdir()[3]\n",
    "df = pd.read_csv(file)\n",
    "df['prior'] = df['Type'].apply(lambda x: 1 if x=='National Holiday' else 2)\n",
    "df['Type'] = df['Type'].apply(lambda x: 'Culture Event' if x=='Protest' else x)\n",
    "df = df[df['Type']!='Extreme Weather']\n",
    "df['Type'] = df['Type'].apply(lambda x: 'Extreme Weather' if x=='Natural Disaster' else x)\n",
    "df = df.sort_values(by=['prior'])\n",
    "df.drop_duplicates(subset=['Date'], keep='first')\n",
    "df = df[['Type','Name','Date']]\n",
    "df.to_csv(file,index=False)"
   ]
  },
  {
   "cell_type": "code",
   "execution_count": 33,
   "metadata": {},
   "outputs": [
    {
     "data": {
      "text/plain": [
       "array(['National Holiday', 'Culture Event', 'Extreme Weather'],\n",
       "      dtype=object)"
      ]
     },
     "execution_count": 33,
     "metadata": {},
     "output_type": "execute_result"
    }
   ],
   "source": [
    "file = os.listdir()[5]\n",
    "df = pd.read_csv(file)\n",
    "df['Type'].unique()"
   ]
  },
  {
   "cell_type": "code",
   "execution_count": 3,
   "metadata": {},
   "outputs": [],
   "source": [
    "## remove culture event"
   ]
  },
  {
   "cell_type": "code",
   "execution_count": 21,
   "metadata": {},
   "outputs": [],
   "source": [
    "file = 'DCEvents.csv'\n",
    "df = pd.read_csv(file,parse_dates=['Date'], infer_datetime_format=True)\n",
    "df = df.sort_values(['Date', 'Type'])\n",
    "df[df['Type']!='Culture Event'].to_csv(file,index=False)"
   ]
  },
  {
   "cell_type": "code",
   "execution_count": 11,
   "metadata": {},
   "outputs": [],
   "source": []
  },
  {
   "cell_type": "code",
   "execution_count": 17,
   "metadata": {},
   "outputs": [],
   "source": []
  },
  {
   "cell_type": "code",
   "execution_count": null,
   "metadata": {},
   "outputs": [],
   "source": []
  }
 ],
 "metadata": {
  "kernelspec": {
   "display_name": "Python 3",
   "language": "python",
   "name": "python3"
  },
  "language_info": {
   "codemirror_mode": {
    "name": "ipython",
    "version": 3
   },
   "file_extension": ".py",
   "mimetype": "text/x-python",
   "name": "python",
   "nbconvert_exporter": "python",
   "pygments_lexer": "ipython3",
   "version": "3.7.1"
  }
 },
 "nbformat": 4,
 "nbformat_minor": 2
}
