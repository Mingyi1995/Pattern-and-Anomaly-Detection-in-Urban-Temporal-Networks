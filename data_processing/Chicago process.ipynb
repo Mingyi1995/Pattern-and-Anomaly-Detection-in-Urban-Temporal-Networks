{
 "cells": [
  {
   "cell_type": "code",
   "execution_count": 9,
   "metadata": {
    "ExecuteTime": {
     "end_time": "2019-04-12T18:28:37.005659Z",
     "start_time": "2019-04-12T18:28:37.000991Z"
    }
   },
   "outputs": [],
   "source": [
    "import numpy as np\n",
    "import pandas as pd"
   ]
  },
  {
   "cell_type": "code",
   "execution_count": 4,
   "metadata": {
    "ExecuteTime": {
     "end_time": "2019-04-11T05:18:41.715600Z",
     "start_time": "2019-04-11T04:52:41.102540Z"
    }
   },
   "outputs": [],
   "source": [
    "df = pd.read_csv('Chicago_Taxi_Raw.csv')"
   ]
  },
  {
   "cell_type": "code",
   "execution_count": 5,
   "metadata": {
    "ExecuteTime": {
     "end_time": "2019-04-11T05:18:43.585300Z",
     "start_time": "2019-04-11T05:18:42.268069Z"
    }
   },
   "outputs": [
    {
     "data": {
      "text/html": [
       "<div>\n",
       "<style scoped>\n",
       "    .dataframe tbody tr th:only-of-type {\n",
       "        vertical-align: middle;\n",
       "    }\n",
       "\n",
       "    .dataframe tbody tr th {\n",
       "        vertical-align: top;\n",
       "    }\n",
       "\n",
       "    .dataframe thead th {\n",
       "        text-align: right;\n",
       "    }\n",
       "</style>\n",
       "<table border=\"1\" class=\"dataframe\">\n",
       "  <thead>\n",
       "    <tr style=\"text-align: right;\">\n",
       "      <th></th>\n",
       "      <th>Trip ID</th>\n",
       "      <th>Taxi ID</th>\n",
       "      <th>Trip Start Timestamp</th>\n",
       "      <th>Trip End Timestamp</th>\n",
       "      <th>Trip Seconds</th>\n",
       "      <th>Trip Miles</th>\n",
       "      <th>Pickup Census Tract</th>\n",
       "      <th>Dropoff Census Tract</th>\n",
       "      <th>Pickup Community Area</th>\n",
       "      <th>Dropoff Community Area</th>\n",
       "      <th>...</th>\n",
       "      <th>Extras</th>\n",
       "      <th>Trip Total</th>\n",
       "      <th>Payment Type</th>\n",
       "      <th>Company</th>\n",
       "      <th>Pickup Centroid Latitude</th>\n",
       "      <th>Pickup Centroid Longitude</th>\n",
       "      <th>Pickup Centroid Location</th>\n",
       "      <th>Dropoff Centroid Latitude</th>\n",
       "      <th>Dropoff Centroid Longitude</th>\n",
       "      <th>Dropoff Centroid  Location</th>\n",
       "    </tr>\n",
       "  </thead>\n",
       "  <tbody>\n",
       "    <tr>\n",
       "      <th>0</th>\n",
       "      <td>27d0dc70225465775b96cffd13a5b7448822cd4d</td>\n",
       "      <td>79fda057016de7b8e48b1735b26a483986beb0bae92594...</td>\n",
       "      <td>01/01/2015 12:00:00 AM</td>\n",
       "      <td>01/01/2015 12:00:00 AM</td>\n",
       "      <td>300.0</td>\n",
       "      <td>1.3</td>\n",
       "      <td>NaN</td>\n",
       "      <td>NaN</td>\n",
       "      <td>14.0</td>\n",
       "      <td>16.0</td>\n",
       "      <td>...</td>\n",
       "      <td>1.5</td>\n",
       "      <td>7.55</td>\n",
       "      <td>Cash</td>\n",
       "      <td>NaN</td>\n",
       "      <td>41.968069</td>\n",
       "      <td>-87.721559</td>\n",
       "      <td>POINT (-87.7215590627 41.968069)</td>\n",
       "      <td>41.953582</td>\n",
       "      <td>-87.723452</td>\n",
       "      <td>POINT (-87.7234523905 41.9535821253)</td>\n",
       "    </tr>\n",
       "    <tr>\n",
       "      <th>1</th>\n",
       "      <td>53b90815bd8bdcae5d62c1c1e95f095ef5637569</td>\n",
       "      <td>f99d866ed2543d082bef92509e7e1f435207b128304932...</td>\n",
       "      <td>01/01/2015 12:00:00 AM</td>\n",
       "      <td>01/01/2015 12:00:00 AM</td>\n",
       "      <td>0.0</td>\n",
       "      <td>0.0</td>\n",
       "      <td>NaN</td>\n",
       "      <td>NaN</td>\n",
       "      <td>6.0</td>\n",
       "      <td>6.0</td>\n",
       "      <td>...</td>\n",
       "      <td>0.0</td>\n",
       "      <td>3.25</td>\n",
       "      <td>Cash</td>\n",
       "      <td>NaN</td>\n",
       "      <td>41.944227</td>\n",
       "      <td>-87.655998</td>\n",
       "      <td>POINT (-87.6559981815 41.9442266014)</td>\n",
       "      <td>41.944227</td>\n",
       "      <td>-87.655998</td>\n",
       "      <td>POINT (-87.6559981815 41.9442266014)</td>\n",
       "    </tr>\n",
       "    <tr>\n",
       "      <th>2</th>\n",
       "      <td>c946adf6828517346d51ead105a4167c652d808f</td>\n",
       "      <td>5243796f344a1e5abd1916c3ae67465a37aa16436c8ba4...</td>\n",
       "      <td>01/01/2015 12:00:00 AM</td>\n",
       "      <td>01/01/2015 12:15:00 AM</td>\n",
       "      <td>780.0</td>\n",
       "      <td>3.2</td>\n",
       "      <td>NaN</td>\n",
       "      <td>NaN</td>\n",
       "      <td>24.0</td>\n",
       "      <td>6.0</td>\n",
       "      <td>...</td>\n",
       "      <td>0.0</td>\n",
       "      <td>12.45</td>\n",
       "      <td>Credit Card</td>\n",
       "      <td>NaN</td>\n",
       "      <td>41.901207</td>\n",
       "      <td>-87.676356</td>\n",
       "      <td>POINT (-87.6763559892 41.9012069941)</td>\n",
       "      <td>41.944227</td>\n",
       "      <td>-87.655998</td>\n",
       "      <td>POINT (-87.6559981815 41.9442266014)</td>\n",
       "    </tr>\n",
       "    <tr>\n",
       "      <th>3</th>\n",
       "      <td>0227cb6eb999cee5292aee0ce84cab079a93b2c1</td>\n",
       "      <td>98bf3bc39cc32e7f0d78188aa985e990aa10a7350a6194...</td>\n",
       "      <td>01/01/2015 12:00:00 AM</td>\n",
       "      <td>01/01/2015 12:00:00 AM</td>\n",
       "      <td>0.0</td>\n",
       "      <td>0.0</td>\n",
       "      <td>NaN</td>\n",
       "      <td>NaN</td>\n",
       "      <td>NaN</td>\n",
       "      <td>NaN</td>\n",
       "      <td>...</td>\n",
       "      <td>0.0</td>\n",
       "      <td>8.58</td>\n",
       "      <td>Credit Card</td>\n",
       "      <td>Chicago Elite Cab Corp. (Chicago Carriag</td>\n",
       "      <td>NaN</td>\n",
       "      <td>NaN</td>\n",
       "      <td>NaN</td>\n",
       "      <td>NaN</td>\n",
       "      <td>NaN</td>\n",
       "      <td>NaN</td>\n",
       "    </tr>\n",
       "    <tr>\n",
       "      <th>4</th>\n",
       "      <td>07e845ec9a307e494255cb57206d56f29d959c91</td>\n",
       "      <td>b0821d108c8b955273c503ff5a228893c2f3681c84fc9e...</td>\n",
       "      <td>01/01/2015 12:00:00 AM</td>\n",
       "      <td>01/01/2015 12:15:00 AM</td>\n",
       "      <td>780.0</td>\n",
       "      <td>6.3</td>\n",
       "      <td>NaN</td>\n",
       "      <td>NaN</td>\n",
       "      <td>NaN</td>\n",
       "      <td>NaN</td>\n",
       "      <td>...</td>\n",
       "      <td>0.0</td>\n",
       "      <td>21.45</td>\n",
       "      <td>Credit Card</td>\n",
       "      <td>NaN</td>\n",
       "      <td>NaN</td>\n",
       "      <td>NaN</td>\n",
       "      <td>NaN</td>\n",
       "      <td>NaN</td>\n",
       "      <td>NaN</td>\n",
       "      <td>NaN</td>\n",
       "    </tr>\n",
       "    <tr>\n",
       "      <th>5</th>\n",
       "      <td>0c3c11e219614a13fc654a9da722383a3cbe59e7</td>\n",
       "      <td>ad45277450362defccc49502ca68fed672689bb030ca3d...</td>\n",
       "      <td>01/01/2015 12:00:00 AM</td>\n",
       "      <td>01/01/2015 12:00:00 AM</td>\n",
       "      <td>480.0</td>\n",
       "      <td>0.0</td>\n",
       "      <td>NaN</td>\n",
       "      <td>NaN</td>\n",
       "      <td>NaN</td>\n",
       "      <td>NaN</td>\n",
       "      <td>...</td>\n",
       "      <td>0.0</td>\n",
       "      <td>7.45</td>\n",
       "      <td>Cash</td>\n",
       "      <td>Blue Ribbon Taxi Association Inc.</td>\n",
       "      <td>NaN</td>\n",
       "      <td>NaN</td>\n",
       "      <td>NaN</td>\n",
       "      <td>NaN</td>\n",
       "      <td>NaN</td>\n",
       "      <td>NaN</td>\n",
       "    </tr>\n",
       "    <tr>\n",
       "      <th>6</th>\n",
       "      <td>0e7869db8f2f5d627e293c16711fbc918adc62ed</td>\n",
       "      <td>1833edab9ed696386a8224986104fd046eaf9ea8dffb9e...</td>\n",
       "      <td>01/01/2015 12:00:00 AM</td>\n",
       "      <td>01/01/2015 12:00:00 AM</td>\n",
       "      <td>0.0</td>\n",
       "      <td>0.0</td>\n",
       "      <td>NaN</td>\n",
       "      <td>NaN</td>\n",
       "      <td>NaN</td>\n",
       "      <td>NaN</td>\n",
       "      <td>...</td>\n",
       "      <td>0.0</td>\n",
       "      <td>11.00</td>\n",
       "      <td>Credit Card</td>\n",
       "      <td>T.A.S. - Payment Only</td>\n",
       "      <td>NaN</td>\n",
       "      <td>NaN</td>\n",
       "      <td>NaN</td>\n",
       "      <td>NaN</td>\n",
       "      <td>NaN</td>\n",
       "      <td>NaN</td>\n",
       "    </tr>\n",
       "    <tr>\n",
       "      <th>7</th>\n",
       "      <td>0ee15ad13aa3bc39af5b1dfbf1c39d5d0cc102d9</td>\n",
       "      <td>7added4d3f37f22fbd28e2f95972c03d79890098880768...</td>\n",
       "      <td>01/01/2015 12:00:00 AM</td>\n",
       "      <td>01/01/2015 12:00:00 AM</td>\n",
       "      <td>0.0</td>\n",
       "      <td>0.0</td>\n",
       "      <td>NaN</td>\n",
       "      <td>NaN</td>\n",
       "      <td>NaN</td>\n",
       "      <td>NaN</td>\n",
       "      <td>...</td>\n",
       "      <td>0.0</td>\n",
       "      <td>5.82</td>\n",
       "      <td>Credit Card</td>\n",
       "      <td>Chicago Elite Cab Corp. (Chicago Carriag</td>\n",
       "      <td>NaN</td>\n",
       "      <td>NaN</td>\n",
       "      <td>NaN</td>\n",
       "      <td>NaN</td>\n",
       "      <td>NaN</td>\n",
       "      <td>NaN</td>\n",
       "    </tr>\n",
       "    <tr>\n",
       "      <th>8</th>\n",
       "      <td>12cd02c7be15d05b3623e51bfbffd7fee25adfe9</td>\n",
       "      <td>1b106798d36c2a85aa61c47ef4a331e1c3f00d159601ce...</td>\n",
       "      <td>01/01/2015 12:00:00 AM</td>\n",
       "      <td>01/01/2015 12:15:00 AM</td>\n",
       "      <td>600.0</td>\n",
       "      <td>2.7</td>\n",
       "      <td>NaN</td>\n",
       "      <td>NaN</td>\n",
       "      <td>NaN</td>\n",
       "      <td>NaN</td>\n",
       "      <td>...</td>\n",
       "      <td>0.0</td>\n",
       "      <td>8.85</td>\n",
       "      <td>Cash</td>\n",
       "      <td>NaN</td>\n",
       "      <td>NaN</td>\n",
       "      <td>NaN</td>\n",
       "      <td>NaN</td>\n",
       "      <td>NaN</td>\n",
       "      <td>NaN</td>\n",
       "      <td>NaN</td>\n",
       "    </tr>\n",
       "    <tr>\n",
       "      <th>9</th>\n",
       "      <td>147aeb7fda252399b1260617f7a751cbd6e7b214</td>\n",
       "      <td>aca90d4b24ec5a6d487331568152d991a3abcb2f21fabf...</td>\n",
       "      <td>01/01/2015 12:00:00 AM</td>\n",
       "      <td>01/01/2015 12:00:00 AM</td>\n",
       "      <td>0.0</td>\n",
       "      <td>0.0</td>\n",
       "      <td>NaN</td>\n",
       "      <td>NaN</td>\n",
       "      <td>NaN</td>\n",
       "      <td>NaN</td>\n",
       "      <td>...</td>\n",
       "      <td>0.0</td>\n",
       "      <td>30.00</td>\n",
       "      <td>Credit Card</td>\n",
       "      <td>NaN</td>\n",
       "      <td>NaN</td>\n",
       "      <td>NaN</td>\n",
       "      <td>NaN</td>\n",
       "      <td>NaN</td>\n",
       "      <td>NaN</td>\n",
       "      <td>NaN</td>\n",
       "    </tr>\n",
       "  </tbody>\n",
       "</table>\n",
       "<p>10 rows × 23 columns</p>\n",
       "</div>"
      ],
      "text/plain": [
       "                                    Trip ID  \\\n",
       "0  27d0dc70225465775b96cffd13a5b7448822cd4d   \n",
       "1  53b90815bd8bdcae5d62c1c1e95f095ef5637569   \n",
       "2  c946adf6828517346d51ead105a4167c652d808f   \n",
       "3  0227cb6eb999cee5292aee0ce84cab079a93b2c1   \n",
       "4  07e845ec9a307e494255cb57206d56f29d959c91   \n",
       "5  0c3c11e219614a13fc654a9da722383a3cbe59e7   \n",
       "6  0e7869db8f2f5d627e293c16711fbc918adc62ed   \n",
       "7  0ee15ad13aa3bc39af5b1dfbf1c39d5d0cc102d9   \n",
       "8  12cd02c7be15d05b3623e51bfbffd7fee25adfe9   \n",
       "9  147aeb7fda252399b1260617f7a751cbd6e7b214   \n",
       "\n",
       "                                             Taxi ID    Trip Start Timestamp  \\\n",
       "0  79fda057016de7b8e48b1735b26a483986beb0bae92594...  01/01/2015 12:00:00 AM   \n",
       "1  f99d866ed2543d082bef92509e7e1f435207b128304932...  01/01/2015 12:00:00 AM   \n",
       "2  5243796f344a1e5abd1916c3ae67465a37aa16436c8ba4...  01/01/2015 12:00:00 AM   \n",
       "3  98bf3bc39cc32e7f0d78188aa985e990aa10a7350a6194...  01/01/2015 12:00:00 AM   \n",
       "4  b0821d108c8b955273c503ff5a228893c2f3681c84fc9e...  01/01/2015 12:00:00 AM   \n",
       "5  ad45277450362defccc49502ca68fed672689bb030ca3d...  01/01/2015 12:00:00 AM   \n",
       "6  1833edab9ed696386a8224986104fd046eaf9ea8dffb9e...  01/01/2015 12:00:00 AM   \n",
       "7  7added4d3f37f22fbd28e2f95972c03d79890098880768...  01/01/2015 12:00:00 AM   \n",
       "8  1b106798d36c2a85aa61c47ef4a331e1c3f00d159601ce...  01/01/2015 12:00:00 AM   \n",
       "9  aca90d4b24ec5a6d487331568152d991a3abcb2f21fabf...  01/01/2015 12:00:00 AM   \n",
       "\n",
       "       Trip End Timestamp  Trip Seconds  Trip Miles  Pickup Census Tract  \\\n",
       "0  01/01/2015 12:00:00 AM         300.0         1.3                  NaN   \n",
       "1  01/01/2015 12:00:00 AM           0.0         0.0                  NaN   \n",
       "2  01/01/2015 12:15:00 AM         780.0         3.2                  NaN   \n",
       "3  01/01/2015 12:00:00 AM           0.0         0.0                  NaN   \n",
       "4  01/01/2015 12:15:00 AM         780.0         6.3                  NaN   \n",
       "5  01/01/2015 12:00:00 AM         480.0         0.0                  NaN   \n",
       "6  01/01/2015 12:00:00 AM           0.0         0.0                  NaN   \n",
       "7  01/01/2015 12:00:00 AM           0.0         0.0                  NaN   \n",
       "8  01/01/2015 12:15:00 AM         600.0         2.7                  NaN   \n",
       "9  01/01/2015 12:00:00 AM           0.0         0.0                  NaN   \n",
       "\n",
       "   Dropoff Census Tract  Pickup Community Area  Dropoff Community Area  ...  \\\n",
       "0                   NaN                   14.0                    16.0  ...   \n",
       "1                   NaN                    6.0                     6.0  ...   \n",
       "2                   NaN                   24.0                     6.0  ...   \n",
       "3                   NaN                    NaN                     NaN  ...   \n",
       "4                   NaN                    NaN                     NaN  ...   \n",
       "5                   NaN                    NaN                     NaN  ...   \n",
       "6                   NaN                    NaN                     NaN  ...   \n",
       "7                   NaN                    NaN                     NaN  ...   \n",
       "8                   NaN                    NaN                     NaN  ...   \n",
       "9                   NaN                    NaN                     NaN  ...   \n",
       "\n",
       "   Extras  Trip Total  Payment Type                                   Company  \\\n",
       "0     1.5        7.55          Cash                                       NaN   \n",
       "1     0.0        3.25          Cash                                       NaN   \n",
       "2     0.0       12.45   Credit Card                                       NaN   \n",
       "3     0.0        8.58   Credit Card  Chicago Elite Cab Corp. (Chicago Carriag   \n",
       "4     0.0       21.45   Credit Card                                       NaN   \n",
       "5     0.0        7.45          Cash         Blue Ribbon Taxi Association Inc.   \n",
       "6     0.0       11.00   Credit Card                     T.A.S. - Payment Only   \n",
       "7     0.0        5.82   Credit Card  Chicago Elite Cab Corp. (Chicago Carriag   \n",
       "8     0.0        8.85          Cash                                       NaN   \n",
       "9     0.0       30.00   Credit Card                                       NaN   \n",
       "\n",
       "   Pickup Centroid Latitude Pickup Centroid Longitude  \\\n",
       "0                 41.968069                -87.721559   \n",
       "1                 41.944227                -87.655998   \n",
       "2                 41.901207                -87.676356   \n",
       "3                       NaN                       NaN   \n",
       "4                       NaN                       NaN   \n",
       "5                       NaN                       NaN   \n",
       "6                       NaN                       NaN   \n",
       "7                       NaN                       NaN   \n",
       "8                       NaN                       NaN   \n",
       "9                       NaN                       NaN   \n",
       "\n",
       "               Pickup Centroid Location  Dropoff Centroid Latitude  \\\n",
       "0      POINT (-87.7215590627 41.968069)                  41.953582   \n",
       "1  POINT (-87.6559981815 41.9442266014)                  41.944227   \n",
       "2  POINT (-87.6763559892 41.9012069941)                  41.944227   \n",
       "3                                   NaN                        NaN   \n",
       "4                                   NaN                        NaN   \n",
       "5                                   NaN                        NaN   \n",
       "6                                   NaN                        NaN   \n",
       "7                                   NaN                        NaN   \n",
       "8                                   NaN                        NaN   \n",
       "9                                   NaN                        NaN   \n",
       "\n",
       "   Dropoff Centroid Longitude            Dropoff Centroid  Location  \n",
       "0                  -87.723452  POINT (-87.7234523905 41.9535821253)  \n",
       "1                  -87.655998  POINT (-87.6559981815 41.9442266014)  \n",
       "2                  -87.655998  POINT (-87.6559981815 41.9442266014)  \n",
       "3                         NaN                                   NaN  \n",
       "4                         NaN                                   NaN  \n",
       "5                         NaN                                   NaN  \n",
       "6                         NaN                                   NaN  \n",
       "7                         NaN                                   NaN  \n",
       "8                         NaN                                   NaN  \n",
       "9                         NaN                                   NaN  \n",
       "\n",
       "[10 rows x 23 columns]"
      ]
     },
     "execution_count": 5,
     "metadata": {},
     "output_type": "execute_result"
    }
   ],
   "source": [
    "df.head(10)"
   ]
  },
  {
   "cell_type": "code",
   "execution_count": 6,
   "metadata": {
    "ExecuteTime": {
     "end_time": "2019-04-11T05:19:40.780953Z",
     "start_time": "2019-04-11T05:19:40.759575Z"
    }
   },
   "outputs": [
    {
     "data": {
      "text/plain": [
       "(54968041, 23)"
      ]
     },
     "execution_count": 6,
     "metadata": {},
     "output_type": "execute_result"
    }
   ],
   "source": [
    "df.shape"
   ]
  },
  {
   "cell_type": "code",
   "execution_count": 7,
   "metadata": {
    "ExecuteTime": {
     "end_time": "2019-04-11T05:19:44.614249Z",
     "start_time": "2019-04-11T05:19:44.599607Z"
    }
   },
   "outputs": [
    {
     "data": {
      "text/plain": [
       "Index(['Trip ID', 'Taxi ID', 'Trip Start Timestamp', 'Trip End Timestamp',\n",
       "       'Trip Seconds', 'Trip Miles', 'Pickup Census Tract',\n",
       "       'Dropoff Census Tract', 'Pickup Community Area',\n",
       "       'Dropoff Community Area', 'Fare', 'Tips', 'Tolls', 'Extras',\n",
       "       'Trip Total', 'Payment Type', 'Company', 'Pickup Centroid Latitude',\n",
       "       'Pickup Centroid Longitude', 'Pickup Centroid Location',\n",
       "       'Dropoff Centroid Latitude', 'Dropoff Centroid Longitude',\n",
       "       'Dropoff Centroid  Location'],\n",
       "      dtype='object')"
      ]
     },
     "execution_count": 7,
     "metadata": {},
     "output_type": "execute_result"
    }
   ],
   "source": [
    "df.columns"
   ]
  },
  {
   "cell_type": "code",
   "execution_count": 8,
   "metadata": {
    "ExecuteTime": {
     "end_time": "2019-04-11T05:29:27.668957Z",
     "start_time": "2019-04-11T05:19:47.322284Z"
    }
   },
   "outputs": [],
   "source": [
    "df.dropna(inplace = True)"
   ]
  },
  {
   "cell_type": "code",
   "execution_count": 9,
   "metadata": {
    "ExecuteTime": {
     "end_time": "2019-04-11T05:29:28.339077Z",
     "start_time": "2019-04-11T05:29:28.213672Z"
    }
   },
   "outputs": [
    {
     "data": {
      "text/plain": [
       "(21193318, 23)"
      ]
     },
     "execution_count": 9,
     "metadata": {},
     "output_type": "execute_result"
    }
   ],
   "source": [
    "df.shape"
   ]
  },
  {
   "cell_type": "code",
   "execution_count": 10,
   "metadata": {
    "ExecuteTime": {
     "end_time": "2019-04-11T05:33:59.822788Z",
     "start_time": "2019-04-11T05:29:28.343418Z"
    }
   },
   "outputs": [],
   "source": [
    "df = df[(df['Trip Seconds'] != 0) & (df['Trip Miles'] != 0)]"
   ]
  },
  {
   "cell_type": "code",
   "execution_count": 11,
   "metadata": {
    "ExecuteTime": {
     "end_time": "2019-04-11T05:35:44.754159Z",
     "start_time": "2019-04-11T05:34:55.375074Z"
    }
   },
   "outputs": [],
   "source": [
    "columns = ['Trip Start Timestamp', 'Trip End Timestamp', 'Pickup Community Area', 'Dropoff Community Area']\n",
    "df = df[columns]\n",
    "df.reset_index(drop = True, inplace = True)"
   ]
  },
  {
   "cell_type": "code",
   "execution_count": 12,
   "metadata": {
    "ExecuteTime": {
     "end_time": "2019-04-11T05:35:46.373950Z",
     "start_time": "2019-04-11T05:35:44.824621Z"
    }
   },
   "outputs": [
    {
     "data": {
      "text/html": [
       "<div>\n",
       "<style scoped>\n",
       "    .dataframe tbody tr th:only-of-type {\n",
       "        vertical-align: middle;\n",
       "    }\n",
       "\n",
       "    .dataframe tbody tr th {\n",
       "        vertical-align: top;\n",
       "    }\n",
       "\n",
       "    .dataframe thead th {\n",
       "        text-align: right;\n",
       "    }\n",
       "</style>\n",
       "<table border=\"1\" class=\"dataframe\">\n",
       "  <thead>\n",
       "    <tr style=\"text-align: right;\">\n",
       "      <th></th>\n",
       "      <th>Trip Start Timestamp</th>\n",
       "      <th>Trip End Timestamp</th>\n",
       "      <th>Pickup Community Area</th>\n",
       "      <th>Dropoff Community Area</th>\n",
       "    </tr>\n",
       "  </thead>\n",
       "  <tbody>\n",
       "    <tr>\n",
       "      <th>0</th>\n",
       "      <td>01/01/2015 12:00:00 AM</td>\n",
       "      <td>01/01/2015 12:00:00 AM</td>\n",
       "      <td>8.0</td>\n",
       "      <td>8.0</td>\n",
       "    </tr>\n",
       "    <tr>\n",
       "      <th>1</th>\n",
       "      <td>01/01/2015 12:00:00 AM</td>\n",
       "      <td>01/01/2015 12:00:00 AM</td>\n",
       "      <td>8.0</td>\n",
       "      <td>8.0</td>\n",
       "    </tr>\n",
       "    <tr>\n",
       "      <th>2</th>\n",
       "      <td>01/01/2015 12:00:00 AM</td>\n",
       "      <td>01/01/2015 12:15:00 AM</td>\n",
       "      <td>6.0</td>\n",
       "      <td>8.0</td>\n",
       "    </tr>\n",
       "    <tr>\n",
       "      <th>3</th>\n",
       "      <td>01/01/2015 12:00:00 AM</td>\n",
       "      <td>01/01/2015 12:15:00 AM</td>\n",
       "      <td>8.0</td>\n",
       "      <td>28.0</td>\n",
       "    </tr>\n",
       "    <tr>\n",
       "      <th>4</th>\n",
       "      <td>01/01/2015 12:00:00 AM</td>\n",
       "      <td>01/01/2015 12:00:00 AM</td>\n",
       "      <td>8.0</td>\n",
       "      <td>8.0</td>\n",
       "    </tr>\n",
       "  </tbody>\n",
       "</table>\n",
       "</div>"
      ],
      "text/plain": [
       "     Trip Start Timestamp      Trip End Timestamp  Pickup Community Area  \\\n",
       "0  01/01/2015 12:00:00 AM  01/01/2015 12:00:00 AM                    8.0   \n",
       "1  01/01/2015 12:00:00 AM  01/01/2015 12:00:00 AM                    8.0   \n",
       "2  01/01/2015 12:00:00 AM  01/01/2015 12:15:00 AM                    6.0   \n",
       "3  01/01/2015 12:00:00 AM  01/01/2015 12:15:00 AM                    8.0   \n",
       "4  01/01/2015 12:00:00 AM  01/01/2015 12:00:00 AM                    8.0   \n",
       "\n",
       "   Dropoff Community Area  \n",
       "0                     8.0  \n",
       "1                     8.0  \n",
       "2                     8.0  \n",
       "3                    28.0  \n",
       "4                     8.0  "
      ]
     },
     "execution_count": 12,
     "metadata": {},
     "output_type": "execute_result"
    }
   ],
   "source": [
    "df.head()"
   ]
  },
  {
   "cell_type": "code",
   "execution_count": 13,
   "metadata": {
    "ExecuteTime": {
     "end_time": "2019-04-11T05:38:13.325449Z",
     "start_time": "2019-04-11T05:36:25.242432Z"
    }
   },
   "outputs": [],
   "source": [
    "#df.to_csv('Chicago_taxi_cleaning.csv')\n",
    "df.to_csv('Chicago_taxi_cleaning.csv', index = False)"
   ]
  },
  {
   "cell_type": "code",
   "execution_count": 6,
   "metadata": {
    "ExecuteTime": {
     "end_time": "2019-04-11T18:02:08.959241Z",
     "start_time": "2019-04-11T18:01:51.449863Z"
    }
   },
   "outputs": [
    {
     "data": {
      "text/html": [
       "<div>\n",
       "<style scoped>\n",
       "    .dataframe tbody tr th:only-of-type {\n",
       "        vertical-align: middle;\n",
       "    }\n",
       "\n",
       "    .dataframe tbody tr th {\n",
       "        vertical-align: top;\n",
       "    }\n",
       "\n",
       "    .dataframe thead th {\n",
       "        text-align: right;\n",
       "    }\n",
       "</style>\n",
       "<table border=\"1\" class=\"dataframe\">\n",
       "  <thead>\n",
       "    <tr style=\"text-align: right;\">\n",
       "      <th></th>\n",
       "      <th>Trip Start Timestamp</th>\n",
       "      <th>Trip End Timestamp</th>\n",
       "      <th>Pickup Community Area</th>\n",
       "      <th>Dropoff Community Area</th>\n",
       "    </tr>\n",
       "  </thead>\n",
       "  <tbody>\n",
       "    <tr>\n",
       "      <th>0</th>\n",
       "      <td>01/01/2015 12:00:00 AM</td>\n",
       "      <td>01/01/2015 12:00:00 AM</td>\n",
       "      <td>8.0</td>\n",
       "      <td>8.0</td>\n",
       "    </tr>\n",
       "    <tr>\n",
       "      <th>1</th>\n",
       "      <td>01/01/2015 12:00:00 AM</td>\n",
       "      <td>01/01/2015 12:00:00 AM</td>\n",
       "      <td>8.0</td>\n",
       "      <td>8.0</td>\n",
       "    </tr>\n",
       "    <tr>\n",
       "      <th>2</th>\n",
       "      <td>01/01/2015 12:00:00 AM</td>\n",
       "      <td>01/01/2015 12:15:00 AM</td>\n",
       "      <td>6.0</td>\n",
       "      <td>8.0</td>\n",
       "    </tr>\n",
       "    <tr>\n",
       "      <th>3</th>\n",
       "      <td>01/01/2015 12:00:00 AM</td>\n",
       "      <td>01/01/2015 12:15:00 AM</td>\n",
       "      <td>8.0</td>\n",
       "      <td>28.0</td>\n",
       "    </tr>\n",
       "    <tr>\n",
       "      <th>4</th>\n",
       "      <td>01/01/2015 12:00:00 AM</td>\n",
       "      <td>01/01/2015 12:00:00 AM</td>\n",
       "      <td>8.0</td>\n",
       "      <td>8.0</td>\n",
       "    </tr>\n",
       "  </tbody>\n",
       "</table>\n",
       "</div>"
      ],
      "text/plain": [
       "     Trip Start Timestamp      Trip End Timestamp  Pickup Community Area  \\\n",
       "0  01/01/2015 12:00:00 AM  01/01/2015 12:00:00 AM                    8.0   \n",
       "1  01/01/2015 12:00:00 AM  01/01/2015 12:00:00 AM                    8.0   \n",
       "2  01/01/2015 12:00:00 AM  01/01/2015 12:15:00 AM                    6.0   \n",
       "3  01/01/2015 12:00:00 AM  01/01/2015 12:15:00 AM                    8.0   \n",
       "4  01/01/2015 12:00:00 AM  01/01/2015 12:00:00 AM                    8.0   \n",
       "\n",
       "   Dropoff Community Area  \n",
       "0                     8.0  \n",
       "1                     8.0  \n",
       "2                     8.0  \n",
       "3                    28.0  \n",
       "4                     8.0  "
      ]
     },
     "execution_count": 6,
     "metadata": {},
     "output_type": "execute_result"
    }
   ],
   "source": [
    "df = pd.read_csv('Chicago_taxi_cleaning.csv')\n",
    "df.head()"
   ]
  },
  {
   "cell_type": "code",
   "execution_count": 51,
   "metadata": {
    "ExecuteTime": {
     "end_time": "2019-04-12T03:17:38.486459Z",
     "start_time": "2019-04-12T03:17:38.475874Z"
    }
   },
   "outputs": [
    {
     "data": {
      "text/plain": [
       "(14919326, 4)"
      ]
     },
     "execution_count": 51,
     "metadata": {},
     "output_type": "execute_result"
    }
   ],
   "source": [
    "df.shape"
   ]
  },
  {
   "cell_type": "code",
   "execution_count": 55,
   "metadata": {
    "ExecuteTime": {
     "end_time": "2019-04-12T03:35:38.382449Z",
     "start_time": "2019-04-12T03:20:48.110070Z"
    }
   },
   "outputs": [],
   "source": [
    "starttime = df.loc[:,'Trip Start Timestamp'].str.split(' ', expand = True)\n",
    "endtime = df.loc[:,'Trip End Timestamp'].str.split(' ', expand = True)\n",
    "df.loc[:,'Trip Start Timestamp'] = starttime[0]\n",
    "df.loc[:,'Trip End Timestamp'] = endtime[0]"
   ]
  },
  {
   "cell_type": "code",
   "execution_count": 56,
   "metadata": {
    "ExecuteTime": {
     "end_time": "2019-04-12T03:58:36.939406Z",
     "start_time": "2019-04-12T03:58:36.858018Z"
    }
   },
   "outputs": [
    {
     "data": {
      "text/html": [
       "<div>\n",
       "<style scoped>\n",
       "    .dataframe tbody tr th:only-of-type {\n",
       "        vertical-align: middle;\n",
       "    }\n",
       "\n",
       "    .dataframe tbody tr th {\n",
       "        vertical-align: top;\n",
       "    }\n",
       "\n",
       "    .dataframe thead th {\n",
       "        text-align: right;\n",
       "    }\n",
       "</style>\n",
       "<table border=\"1\" class=\"dataframe\">\n",
       "  <thead>\n",
       "    <tr style=\"text-align: right;\">\n",
       "      <th></th>\n",
       "      <th>Trip Start Timestamp</th>\n",
       "      <th>Trip End Timestamp</th>\n",
       "      <th>Pickup Community Area</th>\n",
       "      <th>Dropoff Community Area</th>\n",
       "    </tr>\n",
       "  </thead>\n",
       "  <tbody>\n",
       "    <tr>\n",
       "      <th>0</th>\n",
       "      <td>01/01/2015</td>\n",
       "      <td>01/01/2015</td>\n",
       "      <td>8.0</td>\n",
       "      <td>8.0</td>\n",
       "    </tr>\n",
       "    <tr>\n",
       "      <th>1</th>\n",
       "      <td>01/01/2015</td>\n",
       "      <td>01/01/2015</td>\n",
       "      <td>8.0</td>\n",
       "      <td>8.0</td>\n",
       "    </tr>\n",
       "    <tr>\n",
       "      <th>2</th>\n",
       "      <td>01/01/2015</td>\n",
       "      <td>01/01/2015</td>\n",
       "      <td>6.0</td>\n",
       "      <td>8.0</td>\n",
       "    </tr>\n",
       "    <tr>\n",
       "      <th>3</th>\n",
       "      <td>01/01/2015</td>\n",
       "      <td>01/01/2015</td>\n",
       "      <td>8.0</td>\n",
       "      <td>28.0</td>\n",
       "    </tr>\n",
       "    <tr>\n",
       "      <th>4</th>\n",
       "      <td>01/01/2015</td>\n",
       "      <td>01/01/2015</td>\n",
       "      <td>8.0</td>\n",
       "      <td>8.0</td>\n",
       "    </tr>\n",
       "  </tbody>\n",
       "</table>\n",
       "</div>"
      ],
      "text/plain": [
       "  Trip Start Timestamp Trip End Timestamp  Pickup Community Area  \\\n",
       "0           01/01/2015         01/01/2015                    8.0   \n",
       "1           01/01/2015         01/01/2015                    8.0   \n",
       "2           01/01/2015         01/01/2015                    6.0   \n",
       "3           01/01/2015         01/01/2015                    8.0   \n",
       "4           01/01/2015         01/01/2015                    8.0   \n",
       "\n",
       "   Dropoff Community Area  \n",
       "0                     8.0  \n",
       "1                     8.0  \n",
       "2                     8.0  \n",
       "3                    28.0  \n",
       "4                     8.0  "
      ]
     },
     "execution_count": 56,
     "metadata": {},
     "output_type": "execute_result"
    }
   ],
   "source": [
    "df.head()"
   ]
  },
  {
   "cell_type": "code",
   "execution_count": 66,
   "metadata": {
    "ExecuteTime": {
     "end_time": "2019-04-12T04:06:29.093783Z",
     "start_time": "2019-04-12T04:04:34.536128Z"
    }
   },
   "outputs": [],
   "source": [
    "df.to_csv('Chicago_taxi.csv', index = False)"
   ]
  },
  {
   "cell_type": "code",
   "execution_count": 3,
   "metadata": {
    "ExecuteTime": {
     "end_time": "2019-04-12T18:22:29.498247Z",
     "start_time": "2019-04-12T18:22:18.999669Z"
    }
   },
   "outputs": [
    {
     "data": {
      "text/html": [
       "<div>\n",
       "<style scoped>\n",
       "    .dataframe tbody tr th:only-of-type {\n",
       "        vertical-align: middle;\n",
       "    }\n",
       "\n",
       "    .dataframe tbody tr th {\n",
       "        vertical-align: top;\n",
       "    }\n",
       "\n",
       "    .dataframe thead th {\n",
       "        text-align: right;\n",
       "    }\n",
       "</style>\n",
       "<table border=\"1\" class=\"dataframe\">\n",
       "  <thead>\n",
       "    <tr style=\"text-align: right;\">\n",
       "      <th></th>\n",
       "      <th>Trip Start Timestamp</th>\n",
       "      <th>Trip End Timestamp</th>\n",
       "      <th>Pickup Community Area</th>\n",
       "      <th>Dropoff Community Area</th>\n",
       "    </tr>\n",
       "  </thead>\n",
       "  <tbody>\n",
       "    <tr>\n",
       "      <th>0</th>\n",
       "      <td>01/01/2015</td>\n",
       "      <td>01/01/2015</td>\n",
       "      <td>8.0</td>\n",
       "      <td>8.0</td>\n",
       "    </tr>\n",
       "    <tr>\n",
       "      <th>1</th>\n",
       "      <td>01/01/2015</td>\n",
       "      <td>01/01/2015</td>\n",
       "      <td>8.0</td>\n",
       "      <td>8.0</td>\n",
       "    </tr>\n",
       "    <tr>\n",
       "      <th>2</th>\n",
       "      <td>01/01/2015</td>\n",
       "      <td>01/01/2015</td>\n",
       "      <td>6.0</td>\n",
       "      <td>8.0</td>\n",
       "    </tr>\n",
       "    <tr>\n",
       "      <th>3</th>\n",
       "      <td>01/01/2015</td>\n",
       "      <td>01/01/2015</td>\n",
       "      <td>8.0</td>\n",
       "      <td>28.0</td>\n",
       "    </tr>\n",
       "    <tr>\n",
       "      <th>4</th>\n",
       "      <td>01/01/2015</td>\n",
       "      <td>01/01/2015</td>\n",
       "      <td>8.0</td>\n",
       "      <td>8.0</td>\n",
       "    </tr>\n",
       "  </tbody>\n",
       "</table>\n",
       "</div>"
      ],
      "text/plain": [
       "  Trip Start Timestamp Trip End Timestamp  Pickup Community Area  \\\n",
       "0           01/01/2015         01/01/2015                    8.0   \n",
       "1           01/01/2015         01/01/2015                    8.0   \n",
       "2           01/01/2015         01/01/2015                    6.0   \n",
       "3           01/01/2015         01/01/2015                    8.0   \n",
       "4           01/01/2015         01/01/2015                    8.0   \n",
       "\n",
       "   Dropoff Community Area  \n",
       "0                     8.0  \n",
       "1                     8.0  \n",
       "2                     8.0  \n",
       "3                    28.0  \n",
       "4                     8.0  "
      ]
     },
     "execution_count": 3,
     "metadata": {},
     "output_type": "execute_result"
    }
   ],
   "source": [
    "df = pd.read_csv('Chicago_taxi.csv')\n",
    "df.head()"
   ]
  },
  {
   "cell_type": "code",
   "execution_count": 4,
   "metadata": {
    "ExecuteTime": {
     "end_time": "2019-04-12T18:22:53.535567Z",
     "start_time": "2019-04-12T18:22:53.069324Z"
    }
   },
   "outputs": [
    {
     "data": {
      "text/html": [
       "<div>\n",
       "<style scoped>\n",
       "    .dataframe tbody tr th:only-of-type {\n",
       "        vertical-align: middle;\n",
       "    }\n",
       "\n",
       "    .dataframe tbody tr th {\n",
       "        vertical-align: top;\n",
       "    }\n",
       "\n",
       "    .dataframe thead th {\n",
       "        text-align: right;\n",
       "    }\n",
       "</style>\n",
       "<table border=\"1\" class=\"dataframe\">\n",
       "  <thead>\n",
       "    <tr style=\"text-align: right;\">\n",
       "      <th></th>\n",
       "      <th>Trip Start Timestamp</th>\n",
       "      <th>Pickup Community Area</th>\n",
       "      <th>Dropoff Community Area</th>\n",
       "    </tr>\n",
       "  </thead>\n",
       "  <tbody>\n",
       "    <tr>\n",
       "      <th>0</th>\n",
       "      <td>01/01/2015</td>\n",
       "      <td>8.0</td>\n",
       "      <td>8.0</td>\n",
       "    </tr>\n",
       "    <tr>\n",
       "      <th>1</th>\n",
       "      <td>01/01/2015</td>\n",
       "      <td>8.0</td>\n",
       "      <td>8.0</td>\n",
       "    </tr>\n",
       "    <tr>\n",
       "      <th>2</th>\n",
       "      <td>01/01/2015</td>\n",
       "      <td>6.0</td>\n",
       "      <td>8.0</td>\n",
       "    </tr>\n",
       "    <tr>\n",
       "      <th>3</th>\n",
       "      <td>01/01/2015</td>\n",
       "      <td>8.0</td>\n",
       "      <td>28.0</td>\n",
       "    </tr>\n",
       "    <tr>\n",
       "      <th>4</th>\n",
       "      <td>01/01/2015</td>\n",
       "      <td>8.0</td>\n",
       "      <td>8.0</td>\n",
       "    </tr>\n",
       "  </tbody>\n",
       "</table>\n",
       "</div>"
      ],
      "text/plain": [
       "  Trip Start Timestamp  Pickup Community Area  Dropoff Community Area\n",
       "0           01/01/2015                    8.0                     8.0\n",
       "1           01/01/2015                    8.0                     8.0\n",
       "2           01/01/2015                    6.0                     8.0\n",
       "3           01/01/2015                    8.0                    28.0\n",
       "4           01/01/2015                    8.0                     8.0"
      ]
     },
     "execution_count": 4,
     "metadata": {},
     "output_type": "execute_result"
    }
   ],
   "source": [
    "df.drop('Trip End Timestamp', axis = 1, inplace = True)\n",
    "df.head()"
   ]
  },
  {
   "cell_type": "code",
   "execution_count": 13,
   "metadata": {
    "ExecuteTime": {
     "end_time": "2019-04-12T18:31:37.395437Z",
     "start_time": "2019-04-12T18:31:37.388221Z"
    }
   },
   "outputs": [
    {
     "data": {
      "text/plain": [
       "(14919326, 3)"
      ]
     },
     "execution_count": 13,
     "metadata": {},
     "output_type": "execute_result"
    }
   ],
   "source": [
    "df.shape"
   ]
  },
  {
   "cell_type": "code",
   "execution_count": 5,
   "metadata": {
    "ExecuteTime": {
     "end_time": "2019-04-12T18:23:57.961401Z",
     "start_time": "2019-04-12T18:23:02.239043Z"
    }
   },
   "outputs": [],
   "source": [
    "df.to_csv('Chicago_taxi.csv', index = False)"
   ]
  },
  {
   "cell_type": "code",
   "execution_count": 18,
   "metadata": {
    "ExecuteTime": {
     "end_time": "2019-04-12T18:41:08.666680Z",
     "start_time": "2019-04-12T18:41:07.656242Z"
    }
   },
   "outputs": [],
   "source": [
    "df.rename(columns = {'Trip Start Timestamp':'Date', 'Pickup Community Area':'PickupLocationID', 'Dropoff Community Area':'DropoffLocationID'}, inplace = True)"
   ]
  },
  {
   "cell_type": "code",
   "execution_count": 20,
   "metadata": {
    "ExecuteTime": {
     "end_time": "2019-04-12T18:42:27.603895Z",
     "start_time": "2019-04-12T18:42:26.696286Z"
    }
   },
   "outputs": [],
   "source": [
    "df['Count'] = np.ones(len(df['Date']))"
   ]
  },
  {
   "cell_type": "code",
   "execution_count": 21,
   "metadata": {
    "ExecuteTime": {
     "end_time": "2019-04-12T18:42:27.668201Z",
     "start_time": "2019-04-12T18:42:27.621351Z"
    }
   },
   "outputs": [
    {
     "data": {
      "text/html": [
       "<div>\n",
       "<style scoped>\n",
       "    .dataframe tbody tr th:only-of-type {\n",
       "        vertical-align: middle;\n",
       "    }\n",
       "\n",
       "    .dataframe tbody tr th {\n",
       "        vertical-align: top;\n",
       "    }\n",
       "\n",
       "    .dataframe thead th {\n",
       "        text-align: right;\n",
       "    }\n",
       "</style>\n",
       "<table border=\"1\" class=\"dataframe\">\n",
       "  <thead>\n",
       "    <tr style=\"text-align: right;\">\n",
       "      <th></th>\n",
       "      <th>Date</th>\n",
       "      <th>PickupLocationID</th>\n",
       "      <th>DropoffLocationID</th>\n",
       "      <th>Count</th>\n",
       "    </tr>\n",
       "  </thead>\n",
       "  <tbody>\n",
       "    <tr>\n",
       "      <th>0</th>\n",
       "      <td>01/01/2015</td>\n",
       "      <td>8.0</td>\n",
       "      <td>8.0</td>\n",
       "      <td>1.0</td>\n",
       "    </tr>\n",
       "    <tr>\n",
       "      <th>1</th>\n",
       "      <td>01/01/2015</td>\n",
       "      <td>8.0</td>\n",
       "      <td>8.0</td>\n",
       "      <td>1.0</td>\n",
       "    </tr>\n",
       "    <tr>\n",
       "      <th>2</th>\n",
       "      <td>01/01/2015</td>\n",
       "      <td>6.0</td>\n",
       "      <td>8.0</td>\n",
       "      <td>1.0</td>\n",
       "    </tr>\n",
       "    <tr>\n",
       "      <th>3</th>\n",
       "      <td>01/01/2015</td>\n",
       "      <td>8.0</td>\n",
       "      <td>28.0</td>\n",
       "      <td>1.0</td>\n",
       "    </tr>\n",
       "    <tr>\n",
       "      <th>4</th>\n",
       "      <td>01/01/2015</td>\n",
       "      <td>8.0</td>\n",
       "      <td>8.0</td>\n",
       "      <td>1.0</td>\n",
       "    </tr>\n",
       "  </tbody>\n",
       "</table>\n",
       "</div>"
      ],
      "text/plain": [
       "         Date  PickupLocationID  DropoffLocationID  Count\n",
       "0  01/01/2015               8.0                8.0    1.0\n",
       "1  01/01/2015               8.0                8.0    1.0\n",
       "2  01/01/2015               6.0                8.0    1.0\n",
       "3  01/01/2015               8.0               28.0    1.0\n",
       "4  01/01/2015               8.0                8.0    1.0"
      ]
     },
     "execution_count": 21,
     "metadata": {},
     "output_type": "execute_result"
    }
   ],
   "source": [
    "df.head()"
   ]
  },
  {
   "cell_type": "code",
   "execution_count": 22,
   "metadata": {
    "ExecuteTime": {
     "end_time": "2019-04-12T18:43:55.158614Z",
     "start_time": "2019-04-12T18:42:39.561367Z"
    }
   },
   "outputs": [],
   "source": [
    "#df.to_csv('Chicago_taxi.csv', index = False)"
   ]
  },
  {
   "cell_type": "code",
   "execution_count": null,
   "metadata": {},
   "outputs": [],
   "source": []
  },
  {
   "cell_type": "code",
   "execution_count": 23,
   "metadata": {
    "ExecuteTime": {
     "end_time": "2019-04-12T18:47:08.785609Z",
     "start_time": "2019-04-12T18:46:57.972489Z"
    }
   },
   "outputs": [
    {
     "data": {
      "text/html": [
       "<div>\n",
       "<style scoped>\n",
       "    .dataframe tbody tr th:only-of-type {\n",
       "        vertical-align: middle;\n",
       "    }\n",
       "\n",
       "    .dataframe tbody tr th {\n",
       "        vertical-align: top;\n",
       "    }\n",
       "\n",
       "    .dataframe thead th {\n",
       "        text-align: right;\n",
       "    }\n",
       "</style>\n",
       "<table border=\"1\" class=\"dataframe\">\n",
       "  <thead>\n",
       "    <tr style=\"text-align: right;\">\n",
       "      <th></th>\n",
       "      <th>Date</th>\n",
       "      <th>PickupLocationID</th>\n",
       "      <th>DropoffLocationID</th>\n",
       "      <th>Count</th>\n",
       "    </tr>\n",
       "  </thead>\n",
       "  <tbody>\n",
       "    <tr>\n",
       "      <th>0</th>\n",
       "      <td>01/01/2015</td>\n",
       "      <td>8.0</td>\n",
       "      <td>8.0</td>\n",
       "      <td>1.0</td>\n",
       "    </tr>\n",
       "    <tr>\n",
       "      <th>1</th>\n",
       "      <td>01/01/2015</td>\n",
       "      <td>8.0</td>\n",
       "      <td>8.0</td>\n",
       "      <td>1.0</td>\n",
       "    </tr>\n",
       "    <tr>\n",
       "      <th>2</th>\n",
       "      <td>01/01/2015</td>\n",
       "      <td>6.0</td>\n",
       "      <td>8.0</td>\n",
       "      <td>1.0</td>\n",
       "    </tr>\n",
       "    <tr>\n",
       "      <th>3</th>\n",
       "      <td>01/01/2015</td>\n",
       "      <td>8.0</td>\n",
       "      <td>28.0</td>\n",
       "      <td>1.0</td>\n",
       "    </tr>\n",
       "    <tr>\n",
       "      <th>4</th>\n",
       "      <td>01/01/2015</td>\n",
       "      <td>8.0</td>\n",
       "      <td>8.0</td>\n",
       "      <td>1.0</td>\n",
       "    </tr>\n",
       "  </tbody>\n",
       "</table>\n",
       "</div>"
      ],
      "text/plain": [
       "         Date  PickupLocationID  DropoffLocationID  Count\n",
       "0  01/01/2015               8.0                8.0    1.0\n",
       "1  01/01/2015               8.0                8.0    1.0\n",
       "2  01/01/2015               6.0                8.0    1.0\n",
       "3  01/01/2015               8.0               28.0    1.0\n",
       "4  01/01/2015               8.0                8.0    1.0"
      ]
     },
     "execution_count": 23,
     "metadata": {},
     "output_type": "execute_result"
    }
   ],
   "source": [
    "df = pd.read_csv('Chicago_taxi_Unaggregated.csv')\n",
    "df.head()"
   ]
  },
  {
   "cell_type": "code",
   "execution_count": 25,
   "metadata": {
    "ExecuteTime": {
     "end_time": "2019-04-12T18:48:13.471529Z",
     "start_time": "2019-04-12T18:48:08.632020Z"
    }
   },
   "outputs": [],
   "source": [
    "df = df.groupby(['Date', 'PickupLocationID', 'DropoffLocationID'], as_index = False).sum()"
   ]
  },
  {
   "cell_type": "code",
   "execution_count": 27,
   "metadata": {
    "ExecuteTime": {
     "end_time": "2019-04-12T18:48:45.588001Z",
     "start_time": "2019-04-12T18:48:44.648149Z"
    }
   },
   "outputs": [],
   "source": [
    "df.to_csv('Chicago_taxi_aggregated.csv', index = False)"
   ]
  },
  {
   "cell_type": "code",
   "execution_count": 28,
   "metadata": {
    "ExecuteTime": {
     "end_time": "2019-04-12T18:49:07.446098Z",
     "start_time": "2019-04-12T18:49:07.219177Z"
    }
   },
   "outputs": [
    {
     "data": {
      "text/html": [
       "<div>\n",
       "<style scoped>\n",
       "    .dataframe tbody tr th:only-of-type {\n",
       "        vertical-align: middle;\n",
       "    }\n",
       "\n",
       "    .dataframe tbody tr th {\n",
       "        vertical-align: top;\n",
       "    }\n",
       "\n",
       "    .dataframe thead th {\n",
       "        text-align: right;\n",
       "    }\n",
       "</style>\n",
       "<table border=\"1\" class=\"dataframe\">\n",
       "  <thead>\n",
       "    <tr style=\"text-align: right;\">\n",
       "      <th></th>\n",
       "      <th>Date</th>\n",
       "      <th>PickupLocationID</th>\n",
       "      <th>DropoffLocationID</th>\n",
       "      <th>Count</th>\n",
       "    </tr>\n",
       "  </thead>\n",
       "  <tbody>\n",
       "    <tr>\n",
       "      <th>0</th>\n",
       "      <td>01/01/2015</td>\n",
       "      <td>1.0</td>\n",
       "      <td>1.0</td>\n",
       "      <td>11.0</td>\n",
       "    </tr>\n",
       "    <tr>\n",
       "      <th>1</th>\n",
       "      <td>01/01/2015</td>\n",
       "      <td>1.0</td>\n",
       "      <td>2.0</td>\n",
       "      <td>5.0</td>\n",
       "    </tr>\n",
       "    <tr>\n",
       "      <th>2</th>\n",
       "      <td>01/01/2015</td>\n",
       "      <td>1.0</td>\n",
       "      <td>3.0</td>\n",
       "      <td>7.0</td>\n",
       "    </tr>\n",
       "    <tr>\n",
       "      <th>3</th>\n",
       "      <td>01/01/2015</td>\n",
       "      <td>1.0</td>\n",
       "      <td>6.0</td>\n",
       "      <td>10.0</td>\n",
       "    </tr>\n",
       "    <tr>\n",
       "      <th>4</th>\n",
       "      <td>01/01/2015</td>\n",
       "      <td>1.0</td>\n",
       "      <td>8.0</td>\n",
       "      <td>7.0</td>\n",
       "    </tr>\n",
       "  </tbody>\n",
       "</table>\n",
       "</div>"
      ],
      "text/plain": [
       "         Date  PickupLocationID  DropoffLocationID  Count\n",
       "0  01/01/2015               1.0                1.0   11.0\n",
       "1  01/01/2015               1.0                2.0    5.0\n",
       "2  01/01/2015               1.0                3.0    7.0\n",
       "3  01/01/2015               1.0                6.0   10.0\n",
       "4  01/01/2015               1.0                8.0    7.0"
      ]
     },
     "execution_count": 28,
     "metadata": {},
     "output_type": "execute_result"
    }
   ],
   "source": [
    "df = pd.read_csv('Chicago_taxi_aggregated.csv')\n",
    "df.head()"
   ]
  },
  {
   "cell_type": "code",
   "execution_count": 29,
   "metadata": {
    "ExecuteTime": {
     "end_time": "2019-04-12T18:49:42.919354Z",
     "start_time": "2019-04-12T18:49:42.911916Z"
    }
   },
   "outputs": [
    {
     "data": {
      "text/plain": [
       "(170717, 4)"
      ]
     },
     "execution_count": 29,
     "metadata": {},
     "output_type": "execute_result"
    }
   ],
   "source": [
    "df.shape"
   ]
  },
  {
   "cell_type": "code",
   "execution_count": 30,
   "metadata": {
    "ExecuteTime": {
     "end_time": "2019-04-12T18:55:52.203545Z",
     "start_time": "2019-04-12T18:55:42.627316Z"
    }
   },
   "outputs": [
    {
     "data": {
      "text/html": [
       "<div>\n",
       "<style scoped>\n",
       "    .dataframe tbody tr th:only-of-type {\n",
       "        vertical-align: middle;\n",
       "    }\n",
       "\n",
       "    .dataframe tbody tr th {\n",
       "        vertical-align: top;\n",
       "    }\n",
       "\n",
       "    .dataframe thead th {\n",
       "        text-align: right;\n",
       "    }\n",
       "</style>\n",
       "<table border=\"1\" class=\"dataframe\">\n",
       "  <thead>\n",
       "    <tr style=\"text-align: right;\">\n",
       "      <th></th>\n",
       "      <th>Date</th>\n",
       "      <th>PickupLocationID</th>\n",
       "      <th>DropoffLocationID</th>\n",
       "      <th>Count</th>\n",
       "    </tr>\n",
       "  </thead>\n",
       "  <tbody>\n",
       "    <tr>\n",
       "      <th>0</th>\n",
       "      <td>01/01/2015</td>\n",
       "      <td>8.0</td>\n",
       "      <td>8.0</td>\n",
       "      <td>1.0</td>\n",
       "    </tr>\n",
       "    <tr>\n",
       "      <th>1</th>\n",
       "      <td>01/01/2015</td>\n",
       "      <td>8.0</td>\n",
       "      <td>8.0</td>\n",
       "      <td>1.0</td>\n",
       "    </tr>\n",
       "    <tr>\n",
       "      <th>2</th>\n",
       "      <td>01/01/2015</td>\n",
       "      <td>6.0</td>\n",
       "      <td>8.0</td>\n",
       "      <td>1.0</td>\n",
       "    </tr>\n",
       "    <tr>\n",
       "      <th>3</th>\n",
       "      <td>01/01/2015</td>\n",
       "      <td>8.0</td>\n",
       "      <td>28.0</td>\n",
       "      <td>1.0</td>\n",
       "    </tr>\n",
       "    <tr>\n",
       "      <th>4</th>\n",
       "      <td>01/01/2015</td>\n",
       "      <td>8.0</td>\n",
       "      <td>8.0</td>\n",
       "      <td>1.0</td>\n",
       "    </tr>\n",
       "  </tbody>\n",
       "</table>\n",
       "</div>"
      ],
      "text/plain": [
       "         Date  PickupLocationID  DropoffLocationID  Count\n",
       "0  01/01/2015               8.0                8.0    1.0\n",
       "1  01/01/2015               8.0                8.0    1.0\n",
       "2  01/01/2015               6.0                8.0    1.0\n",
       "3  01/01/2015               8.0               28.0    1.0\n",
       "4  01/01/2015               8.0                8.0    1.0"
      ]
     },
     "execution_count": 30,
     "metadata": {},
     "output_type": "execute_result"
    }
   ],
   "source": [
    "df = pd.read_csv('Chicago_taxi_Unaggregated.csv')\n",
    "df.head()"
   ]
  },
  {
   "cell_type": "code",
   "execution_count": null,
   "metadata": {},
   "outputs": [],
   "source": []
  }
 ],
 "metadata": {
  "kernelspec": {
   "display_name": "Python 3",
   "language": "python",
   "name": "python3"
  },
  "language_info": {
   "codemirror_mode": {
    "name": "ipython",
    "version": 3
   },
   "file_extension": ".py",
   "mimetype": "text/x-python",
   "name": "python",
   "nbconvert_exporter": "python",
   "pygments_lexer": "ipython3",
   "version": "3.6.4"
  }
 },
 "nbformat": 4,
 "nbformat_minor": 2
}
